{
  "nbformat": 4,
  "nbformat_minor": 0,
  "metadata": {
    "colab": {
      "name": "“Amazon prime Movie View Time Predication.ipynb”",
      "provenance": [],
      "collapsed_sections": [],
      "include_colab_link": true
    },
    "kernelspec": {
      "name": "python3",
      "display_name": "Python 3"
    }
  },
  "cells": [
    {
      "cell_type": "markdown",
      "metadata": {
        "id": "view-in-github",
        "colab_type": "text"
      },
      "source": [
        "<a href=\"https://colab.research.google.com/github/diwu437/diwu-github.io/blob/master/%E2%80%9CAmazon_prime_Movie_View_Time_Predication_ipynb%E2%80%9D.ipynb\" target=\"_parent\"><img src=\"https://colab.research.google.com/assets/colab-badge.svg\" alt=\"Open In Colab\"/></a>"
      ]
    },
    {
      "cell_type": "markdown",
      "metadata": {
        "id": "3z7sF7gvxTke",
        "colab_type": "text"
      },
      "source": [
        "# Part 0 Load packages, load data\n"
      ]
    },
    {
      "cell_type": "code",
      "metadata": {
        "id": "AfZpbClJ8ljR",
        "colab_type": "code",
        "colab": {}
      },
      "source": [
        "#import neccessary libraries\n",
        "import numpy as np\n",
        "import pandas as pd\n",
        "import sklearn as sl\n",
        "from sklearn.preprocessing import StandardScaler\n",
        "from sklearn.model_selection import train_test_split\n",
        "import seaborn as sns\n",
        "import matplotlib.pyplot as plt\n",
        "pd.set_option('display.float_format', lambda x: '%.3f' % x)\n",
        "pd.set_option('display.max_columns',None)\n",
        "pd.set_option('display.max_rows',None)\n",
        "pd.set_option('max_colwidth',100)\n"
      ],
      "execution_count": 0,
      "outputs": []
    },
    {
      "cell_type": "code",
      "metadata": {
        "id": "fdXSywJ6Hzga",
        "colab_type": "code",
        "colab": {}
      },
      "source": [
        "from sklearn.preprocessing import MinMaxScaler"
      ],
      "execution_count": 0,
      "outputs": []
    },
    {
      "cell_type": "markdown",
      "metadata": {
        "id": "GGdLicFQxSlT",
        "colab_type": "text"
      },
      "source": [
        ""
      ]
    },
    {
      "cell_type": "code",
      "metadata": {
        "id": "dkksVl1cqw3W",
        "colab_type": "code",
        "outputId": "8a4daddf-e4e4-4df4-e314-a9e80c1e860a",
        "colab": {
          "resources": {
            "http://localhost:8080/nbextensions/google.colab/files.js": {
              "data": "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",
              "ok": true,
              "headers": [
                [
                  "content-type",
                  "application/javascript"
                ]
              ],
              "status": 200,
              "status_text": ""
            }
          },
          "base_uri": "https://localhost:8080/",
          "height": 77
        }
      },
      "source": [
        "from google.colab import files\n",
        "uploaded = files.upload()"
      ],
      "execution_count": 2,
      "outputs": [
        {
          "output_type": "display_data",
          "data": {
            "text/html": [
              "\n",
              "     <input type=\"file\" id=\"files-8a07c22b-8bbb-4e9c-85e5-8b821b12ba10\" name=\"files[]\" multiple disabled />\n",
              "     <output id=\"result-8a07c22b-8bbb-4e9c-85e5-8b821b12ba10\">\n",
              "      Upload widget is only available when the cell has been executed in the\n",
              "      current browser session. Please rerun this cell to enable.\n",
              "      </output>\n",
              "      <script src=\"/nbextensions/google.colab/files.js\"></script> "
            ],
            "text/plain": [
              "<IPython.core.display.HTML object>"
            ]
          },
          "metadata": {
            "tags": []
          }
        },
        {
          "output_type": "stream",
          "text": [
            "Saving TVdata.txt to TVdata.txt\n"
          ],
          "name": "stdout"
        }
      ]
    },
    {
      "cell_type": "code",
      "metadata": {
        "id": "-wJBauQaI6QZ",
        "colab_type": "code",
        "colab": {}
      },
      "source": [
        "TV=pd.read_table('TVdata.txt',header=0,sep=',',lineterminator='\\n')\n",
        "print(TV.head())"
      ],
      "execution_count": 0,
      "outputs": []
    },
    {
      "cell_type": "markdown",
      "metadata": {
        "id": "3ES81w8WA2Wk",
        "colab_type": "text"
      },
      "source": [
        "# Part 1: Data Exploration"
      ]
    },
    {
      "cell_type": "markdown",
      "metadata": {
        "id": "CDv2MT3gBO70",
        "colab_type": "text"
      },
      "source": [
        "## 1.1 Exclude erroneous data"
      ]
    },
    {
      "cell_type": "markdown",
      "metadata": {
        "id": "vDXp_OnZyRn6",
        "colab_type": "text"
      },
      "source": [
        "Each video should only appear once in the list, duplicated video will be removed."
      ]
    },
    {
      "cell_type": "code",
      "metadata": {
        "id": "oyum-AqDATd3",
        "colab_type": "code",
        "outputId": "12e08f82-d46a-4ff6-c88d-80a8f6afb760",
        "colab": {
          "base_uri": "https://localhost:8080/",
          "height": 34
        }
      },
      "source": [
        "# Remove duplicate observations\n",
        "if TV.set_index('video_id').index.duplicated().sum()==0:\n",
        "  print('no duplicated index')\n",
        "  "
      ],
      "execution_count": 4,
      "outputs": [
        {
          "output_type": "stream",
          "text": [
            "no duplicated index\n"
          ],
          "name": "stdout"
        }
      ]
    },
    {
      "cell_type": "markdown",
      "metadata": {
        "id": "v-N2W8E1ybr2",
        "colab_type": "text"
      },
      "source": [
        "## 1.2 Understand numerical features"
      ]
    },
    {
      "cell_type": "markdown",
      "metadata": {
        "id": "i6DmON1TyoYw",
        "colab_type": "text"
      },
      "source": [
        "### 1.2.1 Overview"
      ]
    },
    {
      "cell_type": "code",
      "metadata": {
        "id": "CJcon31EF26u",
        "colab_type": "code",
        "colab": {}
      },
      "source": [
        "# Checking percentiles for numberic varibles\n",
        "TV.info()\n",
        "print(TV.drop(columns=['video_id','release_year'],axis=1).describe(percentiles=[0.1,0.25,0.5,0.75,0.95]))\n"
      ],
      "execution_count": 0,
      "outputs": []
    },
    {
      "cell_type": "code",
      "metadata": {
        "id": "p9hYQhUz9x1J",
        "colab_type": "code",
        "colab": {
          "base_uri": "https://localhost:8080/",
          "height": 282
        },
        "outputId": "27ecdf5a-d926-4def-a13f-74b8ecae3b95"
      },
      "source": [
        "TV.head(5)"
      ],
      "execution_count": 85,
      "outputs": [
        {
          "output_type": "execute_result",
          "data": {
            "text/html": [
              "<div>\n",
              "<style scoped>\n",
              "    .dataframe tbody tr th:only-of-type {\n",
              "        vertical-align: middle;\n",
              "    }\n",
              "\n",
              "    .dataframe tbody tr th {\n",
              "        vertical-align: top;\n",
              "    }\n",
              "\n",
              "    .dataframe thead th {\n",
              "        text-align: right;\n",
              "    }\n",
              "</style>\n",
              "<table border=\"1\" class=\"dataframe\">\n",
              "  <thead>\n",
              "    <tr style=\"text-align: right;\">\n",
              "      <th></th>\n",
              "      <th>video_id</th>\n",
              "      <th>cvt_per_day</th>\n",
              "      <th>weighted_categorical_position</th>\n",
              "      <th>weighted_horizontal_poition</th>\n",
              "      <th>import_id</th>\n",
              "      <th>release_year</th>\n",
              "      <th>genres</th>\n",
              "      <th>imdb_votes</th>\n",
              "      <th>budget</th>\n",
              "      <th>boxoffice</th>\n",
              "      <th>imdb_rating</th>\n",
              "      <th>duration_in_mins</th>\n",
              "      <th>metacritic_score</th>\n",
              "      <th>awards</th>\n",
              "      <th>mpaa</th>\n",
              "      <th>star_category</th>\n",
              "    </tr>\n",
              "  </thead>\n",
              "  <tbody>\n",
              "    <tr>\n",
              "      <th>0</th>\n",
              "      <td>385504</td>\n",
              "      <td>307127.606</td>\n",
              "      <td>1</td>\n",
              "      <td>3</td>\n",
              "      <td>lionsgate</td>\n",
              "      <td>2013</td>\n",
              "      <td>Action,Thriller,Drama</td>\n",
              "      <td>69614</td>\n",
              "      <td>15000000</td>\n",
              "      <td>42930462</td>\n",
              "      <td>6.500</td>\n",
              "      <td>112.301</td>\n",
              "      <td>51</td>\n",
              "      <td>other award</td>\n",
              "      <td>PG-13</td>\n",
              "      <td>1.710</td>\n",
              "    </tr>\n",
              "    <tr>\n",
              "      <th>1</th>\n",
              "      <td>300175</td>\n",
              "      <td>270338.426</td>\n",
              "      <td>1</td>\n",
              "      <td>3</td>\n",
              "      <td>lionsgate</td>\n",
              "      <td>2013</td>\n",
              "      <td>Comedy,Crime,Thriller</td>\n",
              "      <td>46705</td>\n",
              "      <td>15000000</td>\n",
              "      <td>3301046</td>\n",
              "      <td>6.500</td>\n",
              "      <td>94.983</td>\n",
              "      <td>41</td>\n",
              "      <td>no award</td>\n",
              "      <td>R</td>\n",
              "      <td>3.250</td>\n",
              "    </tr>\n",
              "    <tr>\n",
              "      <th>2</th>\n",
              "      <td>361899</td>\n",
              "      <td>256165.867</td>\n",
              "      <td>1</td>\n",
              "      <td>3</td>\n",
              "      <td>other</td>\n",
              "      <td>2012</td>\n",
              "      <td>Crime,Drama</td>\n",
              "      <td>197596</td>\n",
              "      <td>26000000</td>\n",
              "      <td>37397291</td>\n",
              "      <td>7.300</td>\n",
              "      <td>115.764</td>\n",
              "      <td>58</td>\n",
              "      <td>other award</td>\n",
              "      <td>R</td>\n",
              "      <td>2.647</td>\n",
              "    </tr>\n",
              "    <tr>\n",
              "      <th>3</th>\n",
              "      <td>308314</td>\n",
              "      <td>196622.721</td>\n",
              "      <td>3</td>\n",
              "      <td>4</td>\n",
              "      <td>lionsgate</td>\n",
              "      <td>2008</td>\n",
              "      <td>Thriller,Drama,War,Documentary,Mystery,Action</td>\n",
              "      <td>356339</td>\n",
              "      <td>15000000</td>\n",
              "      <td>15700000</td>\n",
              "      <td>7.600</td>\n",
              "      <td>130.704</td>\n",
              "      <td>94</td>\n",
              "      <td>Oscar</td>\n",
              "      <td>R</td>\n",
              "      <td>1.667</td>\n",
              "    </tr>\n",
              "    <tr>\n",
              "      <th>4</th>\n",
              "      <td>307201</td>\n",
              "      <td>159841.652</td>\n",
              "      <td>1</td>\n",
              "      <td>3</td>\n",
              "      <td>lionsgate</td>\n",
              "      <td>2013</td>\n",
              "      <td>Crime,Thriller,Mystery,Documentary</td>\n",
              "      <td>46720</td>\n",
              "      <td>27220000</td>\n",
              "      <td>8551228</td>\n",
              "      <td>6.400</td>\n",
              "      <td>105.546</td>\n",
              "      <td>37</td>\n",
              "      <td>other award</td>\n",
              "      <td>R</td>\n",
              "      <td>3.067</td>\n",
              "    </tr>\n",
              "  </tbody>\n",
              "</table>\n",
              "</div>"
            ],
            "text/plain": [
              "   video_id  cvt_per_day  weighted_categorical_position  \\\n",
              "0    385504   307127.606                              1   \n",
              "1    300175   270338.426                              1   \n",
              "2    361899   256165.867                              1   \n",
              "3    308314   196622.721                              3   \n",
              "4    307201   159841.652                              1   \n",
              "\n",
              "   weighted_horizontal_poition  import_id  release_year  \\\n",
              "0                            3  lionsgate          2013   \n",
              "1                            3  lionsgate          2013   \n",
              "2                            3      other          2012   \n",
              "3                            4  lionsgate          2008   \n",
              "4                            3  lionsgate          2013   \n",
              "\n",
              "                                          genres  imdb_votes    budget  \\\n",
              "0                          Action,Thriller,Drama       69614  15000000   \n",
              "1                          Comedy,Crime,Thriller       46705  15000000   \n",
              "2                                    Crime,Drama      197596  26000000   \n",
              "3  Thriller,Drama,War,Documentary,Mystery,Action      356339  15000000   \n",
              "4             Crime,Thriller,Mystery,Documentary       46720  27220000   \n",
              "\n",
              "   boxoffice  imdb_rating  duration_in_mins  metacritic_score       awards  \\\n",
              "0   42930462        6.500           112.301                51  other award   \n",
              "1    3301046        6.500            94.983                41     no award   \n",
              "2   37397291        7.300           115.764                58  other award   \n",
              "3   15700000        7.600           130.704                94        Oscar   \n",
              "4    8551228        6.400           105.546                37  other award   \n",
              "\n",
              "    mpaa  star_category  \n",
              "0  PG-13          1.710  \n",
              "1      R          3.250  \n",
              "2      R          2.647  \n",
              "3      R          1.667  \n",
              "4      R          3.067  "
            ]
          },
          "metadata": {
            "tags": []
          },
          "execution_count": 85
        }
      ]
    },
    {
      "cell_type": "markdown",
      "metadata": {
        "id": "spQmT1ZHyjVe",
        "colab_type": "text"
      },
      "source": [
        "### 1.2.2 cvt_per_day feature"
      ]
    },
    {
      "cell_type": "code",
      "metadata": {
        "id": "e-BkewHWZEYa",
        "colab_type": "code",
        "colab": {}
      },
      "source": [
        "plt.hist(TV['cvt_per_day'],bins=range(0,15000,30),color='r',label='cvt_per_day',density=True,alpha=0.5)\n",
        "plt.title('Historgrams of cvt_per_day before data processing')\n",
        "plt.legend(loc='upper right')\n",
        "plt.xlabel('cvt_per_day')\n",
        "plt.ylabel('density')\n",
        "plt.show()"
      ],
      "execution_count": 0,
      "outputs": []
    },
    {
      "cell_type": "markdown",
      "metadata": {
        "id": "my0LY0Wf0CGb",
        "colab_type": "text"
      },
      "source": [
        "### 1.2.3 Correlation among numerical features"
      ]
    },
    {
      "cell_type": "code",
      "metadata": {
        "id": "oSBeyIiGfLA8",
        "colab_type": "code",
        "colab": {}
      },
      "source": [
        "corr = TV[['cvt_per_day','weighted_categorical_position','weighted_horizontal_poition'\n",
        "               ,'release_year', 'imdb_votes', 'budget', 'boxoffice' ,'imdb_rating', \n",
        "               'duration_in_mins', 'metacritic_score', 'star_category']].corr()\n",
        "\n",
        "sns.heatmap(corr, cmap=\"YlGnBu\")"
      ],
      "execution_count": 0,
      "outputs": []
    },
    {
      "cell_type": "code",
      "metadata": {
        "id": "zKOrme5yfSwc",
        "colab_type": "code",
        "colab": {}
      },
      "source": [
        "corr"
      ],
      "execution_count": 0,
      "outputs": []
    },
    {
      "cell_type": "markdown",
      "metadata": {
        "id": "fVUMUbzs0UrM",
        "colab_type": "text"
      },
      "source": [
        "## 1.3 Understand categorical features"
      ]
    },
    {
      "cell_type": "markdown",
      "metadata": {
        "id": "kFWDC_kmieQX",
        "colab_type": "text"
      },
      "source": [
        "### 1.3.1 Distribution of standard categorical features"
      ]
    },
    {
      "cell_type": "code",
      "metadata": {
        "id": "U5Q7QppFfW4P",
        "colab_type": "code",
        "colab": {}
      },
      "source": [
        "sns.stripplot(x='import_id', y='cvt_per_day', data=TV,jitter=True)\n",
        "plt.show()\n",
        "print(TV['import_id'].value_counts())\n",
        "\n",
        "sns.stripplot(x='mpaa', y='cvt_per_day', data=TV,jitter=True)\n",
        "plt.show()\n",
        "print(TV['mpaa'].value_counts())\n",
        "\n",
        "sns.stripplot(x='awards', y='cvt_per_day', data=TV, jitter=True)\n",
        "plt.show()\n",
        "print(TV['awards'].value_counts())"
      ],
      "execution_count": 0,
      "outputs": []
    },
    {
      "cell_type": "markdown",
      "metadata": {
        "id": "4HU4Kd_l0lmt",
        "colab_type": "text"
      },
      "source": [
        "### 1.3.2 Distribution of splited genres"
      ]
    },
    {
      "cell_type": "markdown",
      "metadata": {
        "id": "6p0LW_6K0xpj",
        "colab_type": "text"
      },
      "source": [
        "Some videos belongs to more than 1 genre, the genre of each video is splited, this would help emphasize the effect of each individual genre."
      ]
    },
    {
      "cell_type": "code",
      "metadata": {
        "id": "I0RXWm-bhlpq",
        "colab_type": "code",
        "colab": {}
      },
      "source": [
        "# generes explore, split the genre of each video\n",
        "gen_split = TV['genres'].str.get_dummies(sep=',').sum()\n",
        "print(gen_split)\n",
        "# return numbers of each genre\n",
        "gen_split.sort_values(ascending=False).plot.bar()"
      ],
      "execution_count": 0,
      "outputs": []
    },
    {
      "cell_type": "markdown",
      "metadata": {
        "id": "f4DpGwy900nG",
        "colab_type": "text"
      },
      "source": [
        "### 1.3.3 Distribution of release_year"
      ]
    },
    {
      "cell_type": "markdown",
      "metadata": {
        "id": "WtiAH_7m00tJ",
        "colab_type": "text"
      },
      "source": [
        "The release year of video varies through a wide range. Considering the popularity of a video usually decays over time, the release_year should be bucketed based on the release_year range."
      ]
    },
    {
      "cell_type": "code",
      "metadata": {
        "id": "2zC-7REjisJ1",
        "colab_type": "code",
        "colab": {}
      },
      "source": [
        "plt.hist(TV['release_year'].values, bins = range(1910, 2017, 1), alpha = 0.5, color='r', label = 'release_year', normed = True)\n",
        "plt.legend(loc ='upper left')\n",
        "plt.title('Historgrams of release_year before data processing')\n",
        "plt.xlabel('release_year')\n",
        "plt.ylabel('density')\n",
        "plt.show()\n"
      ],
      "execution_count": 0,
      "outputs": []
    },
    {
      "cell_type": "markdown",
      "metadata": {
        "id": "-kAuJlbm1ydZ",
        "colab_type": "text"
      },
      "source": [
        "# Part 2: Feature Preprocessing"
      ]
    },
    {
      "cell_type": "markdown",
      "metadata": {
        "id": "wHqQu2rK12AH",
        "colab_type": "text"
      },
      "source": [
        "## 2.1 Categorical features"
      ]
    },
    {
      "cell_type": "markdown",
      "metadata": {
        "id": "VJZSa3w515W6",
        "colab_type": "text"
      },
      "source": [
        "There are 5 categorical features: import_id, mpaa, awards, genres, and release_year. There is no missing data in them. They can be converted into dummy/indicators.\n",
        "\n",
        "The first 3 have relatively small sub-types, they can be easily converted to dummies.\n",
        "\n",
        "The 'genres' have 27 different sub-types, 6 of them are rarely observed (refer to previous section). I will group those 6 varibles into one group. Note: a video may have more than one genre, in the feature preprocessing, all genres are handled individually.\n",
        "\n",
        "The release_year is bined into 10 buckets based on the year range between 1917 and 2017."
      ]
    },
    {
      "cell_type": "code",
      "metadata": {
        "id": "NhEq5dXLkkIo",
        "colab_type": "code",
        "colab": {}
      },
      "source": [
        "# Convert 3 Categorical variables into dummy variables\n",
        "d_import_id = pd.get_dummies(TV['import_id']).astype(np.int64)\n",
        "d_mpaa = pd.get_dummies(TV['mpaa']).astype(np.int64)\n",
        "d_awards = pd.get_dummies(TV['awards']).astype(np.int64)"
      ],
      "execution_count": 0,
      "outputs": []
    },
    {
      "cell_type": "code",
      "metadata": {
        "id": "-gF0IhvL2Edh",
        "colab_type": "code",
        "colab": {}
      },
      "source": [
        "# Convert 'genres' into dummy variables\n",
        "d_genres=TV['genres'].str.get_dummies(sep=',').astype(np.int64)\n",
        "d_genres['Misc_genres']=d_genres['Anime']|d_genres['Reality']|d_genres['Lifestyle']|d_genres['Adult']|d_genres['LGBT']|d_genres['Holiday']\n",
        "d_genres.drop(['Anime', 'Reality','Lifestyle', 'Adult','LGBT','Holiday'], inplace=True, axis=1)"
      ],
      "execution_count": 0,
      "outputs": []
    },
    {
      "cell_type": "markdown",
      "metadata": {
        "id": "wRvlpjv5T8wO",
        "colab_type": "text"
      },
      "source": [
        ""
      ]
    },
    {
      "cell_type": "code",
      "metadata": {
        "id": "rrYuplqCU4uH",
        "colab_type": "code",
        "colab": {}
      },
      "source": [
        "\n",
        "TV['release_year'].describe(percentiles=[0.1,0.2,0.3,0.4,0.5,0.6,0.7,0.8,0.9])"
      ],
      "execution_count": 0,
      "outputs": []
    },
    {
      "cell_type": "markdown",
      "metadata": {
        "id": "XvtxzoL8VWq7",
        "colab_type": "text"
      },
      "source": [
        ""
      ]
    },
    {
      "cell_type": "code",
      "metadata": {
        "id": "2stB_bL3n1Uv",
        "colab_type": "code",
        "colab": {}
      },
      "source": [
        "# bin release_year and convert into dummies\n",
        "bin_year = [1916, 1974, 1991, 2001, 2006, 2008, 2010, 2012, 2013, 2014, 2017]\n",
        "year_range = ['1916-1974', '1974-1991', '1991-2001', '2001-2006','2006-2008','2008-2010','2010-2012','2012-2013',\n",
        "              '2013-2014','2014-2017']\n",
        "year_bin = pd.cut(TV['release_year'], bin_year, labels=year_range)\n",
        "d_year = pd.get_dummies(year_bin).astype(np.int64)"
      ],
      "execution_count": 0,
      "outputs": []
    },
    {
      "cell_type": "code",
      "metadata": {
        "id": "MjdlBN_roOZO",
        "colab_type": "code",
        "colab": {}
      },
      "source": [
        "# new dataframe, drop the previous categorical features, add new dummy variables, check for null\n",
        "\n",
        "temp_tv=TV.drop(['import_id', 'mpaa','awards','genres', 'release_year'], axis=1)\n",
        "\n",
        "newTV = pd.concat([temp_tv, d_import_id, d_mpaa, d_awards, d_genres, d_year], axis=1)\n",
        "newTV.head(2)"
      ],
      "execution_count": 0,
      "outputs": []
    },
    {
      "cell_type": "markdown",
      "metadata": {
        "id": "N76z14XL2f2n",
        "colab_type": "text"
      },
      "source": [
        "## 2.2 Missing data"
      ]
    },
    {
      "cell_type": "markdown",
      "metadata": {
        "id": "Z5nrzz8i2kgs",
        "colab_type": "text"
      },
      "source": [
        "Among the 10 numerical features (not include video_id), 4 features have over 25% of missing values (shown as '0', which is not possible in reality): budget, boxoffice, metacritic_score, star_category. 2 features have less than 10% of missing data: imdb_votes, imdb_rating.\n",
        "\n",
        "There are 3242 samples have at least one missing data."
      ]
    },
    {
      "cell_type": "markdown",
      "metadata": {
        "id": "yEsN836gC4Zw",
        "colab_type": "text"
      },
      "source": [
        "\n",
        "For those missing values that are represented by 0, i would also check the ratio of them. "
      ]
    },
    {
      "cell_type": "code",
      "metadata": {
        "id": "WxdTKOiMDdD5",
        "colab_type": "code",
        "colab": {}
      },
      "source": [
        "newTV[['budget','boxoffice','metacritic_score', 'star_category','imdb_votes', 'imdb_rating']] = newTV[['budget','boxoffice','metacritic_score', 'star_category','imdb_votes', 'imdb_rating']].replace(0, np.nan)\n",
        "print(newTV.info())\n",
        "print(newTV.isnull().sum()/newTV.shape[0])\n"
      ],
      "execution_count": 0,
      "outputs": []
    },
    {
      "cell_type": "code",
      "metadata": {
        "id": "Jf8oxZlD3ap5",
        "colab_type": "code",
        "colab": {}
      },
      "source": [
        "# For null value, i replace them with the mean value\n",
        "newTV1=newTV.copy()\n",
        "newTV1['boxoffice']=newTV1['boxoffice'].fillna(newTV1['boxoffice'].mean())\n",
        "newTV1['metacritic_score']=newTV1['metacritic_score'].fillna(newTV1['metacritic_score'].mean())\n",
        "newTV1['star_category']=newTV1['star_category'].fillna(newTV1['star_category'].mean())\n",
        "newTV1['imdb_votes']=newTV1['imdb_votes'].fillna(newTV1['imdb_votes'].mean())\n",
        "newTV1['imdb_rating']=newTV1['imdb_rating'].fillna(newTV1['imdb_rating'].mean())\n",
        "newTV1['budget']=newTV1['budget'].fillna(newTV1['budget'].mean())\n",
        "print(newTV1.info())"
      ],
      "execution_count": 0,
      "outputs": []
    },
    {
      "cell_type": "markdown",
      "metadata": {
        "id": "XqN_tYv537ak",
        "colab_type": "text"
      },
      "source": [
        "## 2.3 Feature scaling"
      ]
    },
    {
      "cell_type": "code",
      "metadata": {
        "id": "ukI1bTdTPuZK",
        "colab_type": "code",
        "colab": {}
      },
      "source": [
        "#I used stand scaling to transfer varibles in order to enhance model perfermance\n",
        "scale_lst = ['weighted_categorical_position', 'weighted_horizontal_poition', 'budget','boxoffice', \n",
        "             'imdb_votes','imdb_rating','duration_in_mins', 'metacritic_score','star_category']\n",
        "newTV_sc = newTV1.copy()\n",
        "\n",
        "sc_scale = StandardScaler().fit(newTV_sc[scale_lst])\n",
        "newTV_sc[scale_lst] = sc_scale.transform(newTV_sc[scale_lst])\n",
        "\n",
        "newTV_sc.head()\n"
      ],
      "execution_count": 0,
      "outputs": []
    },
    {
      "cell_type": "markdown",
      "metadata": {
        "id": "TpuYM0uv4OnC",
        "colab_type": "text"
      },
      "source": [
        "# Part 3: Model Training"
      ]
    },
    {
      "cell_type": "code",
      "metadata": {
        "id": "Z0wDBXROSAe-",
        "colab_type": "code",
        "colab": {}
      },
      "source": [
        "model_train, model_test = train_test_split(newTV_sc, test_size=0.15, random_state = 3)\n",
        "model_train_x = model_train.drop(['video_id', 'cvt_per_day'], axis = 1)\n",
        "model_test_x = model_test.drop(['video_id', 'cvt_per_day'], axis = 1)\n",
        "model_train_y = model_train['cvt_per_day']\n",
        "model_test_y = model_test['cvt_per_day']"
      ],
      "execution_count": 0,
      "outputs": []
    },
    {
      "cell_type": "markdown",
      "metadata": {
        "id": "a715kJX94Ukb",
        "colab_type": "text"
      },
      "source": [
        "### 3.1 Lasso linear regression"
      ]
    },
    {
      "cell_type": "code",
      "metadata": {
        "id": "jXNJRu0eYgiv",
        "colab_type": "code",
        "outputId": "b48df5ef-685c-4498-af04-62f4fdeb89bf",
        "colab": {
          "base_uri": "https://localhost:8080/",
          "height": 329
        }
      },
      "source": [
        "# I first start with lasso linear regression, and i used a for loop to find the best alpha and its R-square score\n",
        "from sklearn.model_selection import train_test_split\n",
        "from sklearn.linear_model import LinearRegression, Lasso, Ridge\n",
        "from sklearn.metrics import mean_squared_error, r2_score\n",
        "from math import sqrt\n",
        "\n",
        "lr_train, lr_validate = train_test_split(model_train, test_size=0.15, random_state = 0)\n",
        "\n",
        "lr_train_x = lr_train.drop(['video_id', 'cvt_per_day'], axis = 1)\n",
        "lr_validate_x = lr_validate.drop(['video_id', 'cvt_per_day'], axis = 1)\n",
        "lr_train_y = lr_train['cvt_per_day']\n",
        "lr_validate_y = lr_validate['cvt_per_day']\n",
        "\n",
        "alphas = np.logspace (-0.3, 2.5, num=150)\n",
        "scores = np.empty_like(alphas)\n",
        "opt_a = float('-inf')\n",
        "max_score = float('-inf')\n",
        "for i, a in enumerate(alphas):\n",
        "    lasso = Lasso()\n",
        "    lasso.set_params(alpha = a)\n",
        "    lasso.fit(lr_train_x, lr_train_y)\n",
        "    scores[i] = lasso.score(lr_validate_x, lr_validate_y)\n",
        "    if scores[i] > max_score:\n",
        "        max_score = scores[i]\n",
        "        opt_a = a\n",
        "        lasso_save = lasso\n",
        "plt.plot(alphas, scores, color='b', linestyle='dashed', marker='o',markerfacecolor='blue', markersize=6)\n",
        "plt.xlabel('alpha')\n",
        "plt.ylabel('score')\n",
        "plt.grid(True)\n",
        "plt.title('score vs. alpha')\n",
        "plt.show()\n",
        "print ('The optimaized alpha and score of Lasso linear is: '), opt_a, max_score\n"
      ],
      "execution_count": 66,
      "outputs": [
        {
          "output_type": "display_data",
          "data": {
            "image/png": "[encoded data removed]",
            "text/plain": [
              "<Figure size 432x288 with 1 Axes>"
            ]
          },
          "metadata": {
            "tags": []
          }
        },
        {
          "output_type": "stream",
          "text": [
            "The optimaized alpha and score of Lasso linear is: \n"
          ],
          "name": "stdout"
        },
        {
          "output_type": "execute_result",
          "data": {
            "text/plain": [
              "(None, 122.06107238906554, 0.36457853302954246)"
            ]
          },
          "metadata": {
            "tags": []
          },
          "execution_count": 66
        }
      ]
    },
    {
      "cell_type": "code",
      "metadata": {
        "id": "w6o_T8LK6tp3",
        "colab_type": "code",
        "outputId": "737cce27-03cc-486a-fa70-7c4e2840082b",
        "colab": {
          "base_uri": "https://localhost:8080/",
          "height": 121
        }
      },
      "source": [
        "# combine the validate data and training data, use the optimal alpha, re-train the model\n",
        "lasso_f = Lasso()\n",
        "lasso_f.set_params(alpha = opt_a)\n",
        "lasso_f.fit(model_train_x, model_train_y)\n"
      ],
      "execution_count": 65,
      "outputs": [
        {
          "output_type": "stream",
          "text": [
            "/usr/local/lib/python3.6/dist-packages/sklearn/linear_model/_coordinate_descent.py:476: ConvergenceWarning: Objective did not converge. You might want to increase the number of iterations. Duality gap: 19655734268.973633, tolerance: 54965082.96651766\n",
            "  positive)\n"
          ],
          "name": "stderr"
        },
        {
          "output_type": "execute_result",
          "data": {
            "text/plain": [
              "Lasso(alpha=0.06610787002555378, copy_X=True, fit_intercept=True, max_iter=1000,\n",
              "      normalize=False, positive=False, precompute=False, random_state=None,\n",
              "      selection='cyclic', tol=0.0001, warm_start=False)"
            ]
          },
          "metadata": {
            "tags": []
          },
          "execution_count": 65
        }
      ]
    },
    {
      "cell_type": "markdown",
      "metadata": {
        "id": "xwTJbv2oBvdm",
        "colab_type": "text"
      },
      "source": [
        "## 3.3 Ridge linear regression"
      ]
    },
    {
      "cell_type": "code",
      "metadata": {
        "id": "SbLyWw9U0ZO0",
        "colab_type": "code",
        "outputId": "8d4c9464-b1db-4248-c107-80554cfb30b0",
        "colab": {
          "base_uri": "https://localhost:8080/",
          "height": 329
        }
      },
      "source": [
        "# Here i used the same training data set as Lasso and select the model with the best alpha \n",
        "lr_train, lr_validate = train_test_split(model_train, test_size=0.15, random_state = 0)\n",
        "\n",
        "alphas = np.logspace (-10, 3, num=150)\n",
        "# alphas= [0.000000001]\n",
        "scores = np.empty_like(alphas)\n",
        "opt_a = float('-inf')\n",
        "max_score = float('-inf')\n",
        "for i, a in enumerate(alphas):\n",
        "    ridge = Ridge()\n",
        "    ridge.set_params(alpha = a)\n",
        "    ridge.fit(lr_train_x, lr_train_y)\n",
        "    scores[i] = ridge.score(lr_validate_x, lr_validate_y)\n",
        "    if scores[i] > max_score:\n",
        "        max_score = scores[i]\n",
        "        opt_a = a\n",
        "        ridge_save = ridge\n",
        "plt.plot(alphas, scores, color='r', linestyle='dashed', marker='o',markerfacecolor='r', markersize=6)\n",
        "plt.xlabel('alpha')\n",
        "plt.ylabel('score')\n",
        "plt.grid(True)\n",
        "plt.title('score vs. alpha')\n",
        "plt.show()\n",
        "print ('The optimaized alpha and score of Ridge linear is: '), opt_a, max_score"
      ],
      "execution_count": 68,
      "outputs": [
        {
          "output_type": "display_data",
          "data": {
            "image/png": "[encoded data removed]",
            "text/plain": [
              "<Figure size 432x288 with 1 Axes>"
            ]
          },
          "metadata": {
            "tags": []
          }
        },
        {
          "output_type": "stream",
          "text": [
            "The optimaized alpha and score of Ridge linear is: \n"
          ],
          "name": "stdout"
        },
        {
          "output_type": "execute_result",
          "data": {
            "text/plain": [
              "(None, 163.97026580002054, 0.35296043098491625)"
            ]
          },
          "metadata": {
            "tags": []
          },
          "execution_count": 68
        }
      ]
    },
    {
      "cell_type": "code",
      "metadata": {
        "id": "XxEqMw4iE9XZ",
        "colab_type": "code",
        "outputId": "e65dfed3-ac42-4349-d1ae-81593fd3e1f8",
        "colab": {
          "base_uri": "https://localhost:8080/",
          "height": 50
        }
      },
      "source": [
        "# add the 15% validate data, use the optimal alpha, re-train the model\n",
        "\n",
        "ridge_f = Ridge()\n",
        "ridge_f.set_params(alpha = opt_a)\n",
        "ridge_f.fit(model_train_x, model_train_y)\n",
        "\n",
        "# ridge_f is the Ridge model (linear feature), to be tested with test data."
      ],
      "execution_count": 69,
      "outputs": [
        {
          "output_type": "execute_result",
          "data": {
            "text/plain": [
              "Ridge(alpha=163.97026580002054, copy_X=True, fit_intercept=True, max_iter=None,\n",
              "      normalize=False, random_state=None, solver='auto', tol=0.001)"
            ]
          },
          "metadata": {
            "tags": []
          },
          "execution_count": 69
        }
      ]
    },
    {
      "cell_type": "markdown",
      "metadata": {
        "id": "T8k96l4UFhoy",
        "colab_type": "text"
      },
      "source": [
        "##3.5 Random Forest"
      ]
    },
    {
      "cell_type": "code",
      "metadata": {
        "id": "jpHVKREP5FmB",
        "colab_type": "code",
        "outputId": "224fb63d-6bdc-4269-b095-2335b8f41b93",
        "colab": {
          "base_uri": "https://localhost:8080/",
          "height": 353
        }
      },
      "source": [
        "from sklearn.ensemble import RandomForestRegressor\n",
        "from sklearn.model_selection import GridSearchCV\n",
        "rf=RandomForestRegressor(random_state=2,max_features='sqrt',n_jobs=-1)\n",
        "param_grid={'n_estimators':[55,56,57,58,59,60,61,62,63,64,65],'max_depth':[15,16,17,18,19,20,21]}\n",
        "clf=GridSearchCV(estimator=rf,param_grid=param_grid,cv=5,refit=True,n_jobs=-1,pre_dispatch='2*n_jobs')\n",
        "clf.fit(model_train_x,model_train_y)"
      ],
      "execution_count": 71,
      "outputs": [
        {
          "output_type": "execute_result",
          "data": {
            "text/plain": [
              "GridSearchCV(cv=5, error_score=nan,\n",
              "             estimator=RandomForestRegressor(bootstrap=True, ccp_alpha=0.0,\n",
              "                                             criterion='mse', max_depth=None,\n",
              "                                             max_features='sqrt',\n",
              "                                             max_leaf_nodes=None,\n",
              "                                             max_samples=None,\n",
              "                                             min_impurity_decrease=0.0,\n",
              "                                             min_impurity_split=None,\n",
              "                                             min_samples_leaf=1,\n",
              "                                             min_samples_split=2,\n",
              "                                             min_weight_fraction_leaf=0.0,\n",
              "                                             n_estimators=100, n_jobs=-1,\n",
              "                                             oob_score=False, random_state=2,\n",
              "                                             verbose=0, warm_start=False),\n",
              "             iid='deprecated', n_jobs=-1,\n",
              "             param_grid={'max_depth': [15, 16, 17, 18, 19, 20, 21],\n",
              "                         'n_estimators': [55, 56, 57, 58, 59, 60, 61, 62, 63,\n",
              "                                          64, 65]},\n",
              "             pre_dispatch='2*n_jobs', refit=True, return_train_score=False,\n",
              "             scoring=None, verbose=0)"
            ]
          },
          "metadata": {
            "tags": []
          },
          "execution_count": 71
        }
      ]
    },
    {
      "cell_type": "code",
      "metadata": {
        "id": "e6aNH8hemOZR",
        "colab_type": "code",
        "outputId": "b62c823c-460f-4b3a-d79e-07245480ccc2",
        "colab": {
          "base_uri": "https://localhost:8080/",
          "height": 1000
        }
      },
      "source": [
        "result=clf.cv_results_\n",
        "print(result)\n",
        "max_depth=[15,16,17,18,19,20,21]\n",
        "n_estimators=[55,56,57,58,59,60,61,62,63,64,65]\n",
        "scores=clf.cv_results_['mean_test_score'].reshape(len(max_depth),len(n_estimators))\n",
        "plt.figure(1)\n",
        "plt.subplot(1,1,1)\n",
        "for i,j in enumerate(max_depth):\n",
        "  plt.plot(n_estimators,scores[i],'-o',label='max_depths is: '+str(j))\n",
        "plt.legend(bbox_to_anchor=(1.05, 1), loc='upper left', borderaxespad=0.)\n",
        "plt.xlabel('mean_test_score')\n",
        "plt.ylabel('n_estimators')\n",
        "plt.show()\n",
        "print('the best parameter for max_depth is: '+str(clf.best_params_['max_depth']))\n",
        "print('the best parameter for n_estimators is: '+str(clf.best_params_['n_estimators']))\n",
        "\n"
      ],
      "execution_count": 72,
      "outputs": [
        {
          "output_type": "stream",
          "text": [
            "{'mean_fit_time': array([0.39415603, 0.37472916, 0.40624995, 0.44193115, 0.42466698,\n",
            "       0.44389224, 0.42986164, 0.4221324 , 0.42900877, 0.42179594,\n",
            "       0.44459429, 0.42330575, 0.37505307, 0.42663565, 0.42491703,\n",
            "       0.4431201 , 0.4252851 , 0.44362149, 0.43492599, 0.42654219,\n",
            "       0.44498405, 0.44479203, 0.40139666, 0.44009495, 0.42713809,\n",
            "       0.44210405, 0.42561212, 0.42510719, 0.4445035 , 0.44785385,\n",
            "       0.46117454, 0.4394691 , 0.48997035, 0.47358603, 0.42015786,\n",
            "       0.45490479, 0.42263422, 0.45083761, 0.44139791, 0.45419645,\n",
            "       0.45822678, 0.47870245, 0.46126127, 0.48168335, 0.42589521,\n",
            "       0.42725081, 0.43756609, 0.43033924, 0.45115967, 0.45275402,\n",
            "       0.45700703, 0.49951386, 0.51849351, 0.5465765 , 0.55503793,\n",
            "       0.4296454 , 0.42891212, 0.44807858, 0.45811095, 0.46728244,\n",
            "       0.45361743, 0.47079873, 0.53441086, 0.52754421, 0.54729981,\n",
            "       0.53287973, 0.41611686, 0.45497837, 0.45534902, 0.53200169,\n",
            "       0.55070596, 0.5414484 , 0.52831659, 0.53316112, 0.50874267,\n",
            "       0.53458862, 0.5354105 ]), 'std_fit_time': array([0.06750859, 0.03816092, 0.0422575 , 0.01150676, 0.03813231,\n",
            "       0.01405261, 0.03576719, 0.04766858, 0.03804557, 0.03663969,\n",
            "       0.01051243, 0.03976665, 0.05120415, 0.04273396, 0.0326794 ,\n",
            "       0.00921633, 0.03521646, 0.01141196, 0.03143645, 0.03064896,\n",
            "       0.01419793, 0.00724884, 0.04358142, 0.01054671, 0.03515645,\n",
            "       0.01552993, 0.03503816, 0.03387091, 0.01336065, 0.01662965,\n",
            "       0.01081227, 0.04489868, 0.04054963, 0.04494203, 0.02422642,\n",
            "       0.01462228, 0.03870613, 0.01001676, 0.01035033, 0.01397309,\n",
            "       0.00634421, 0.03636234, 0.00679093, 0.03649987, 0.0363582 ,\n",
            "       0.05368579, 0.04558144, 0.04808485, 0.00519313, 0.00310096,\n",
            "       0.00798201, 0.03955645, 0.0429517 , 0.01478054, 0.00828066,\n",
            "       0.02092488, 0.03666222, 0.01408414, 0.00872818, 0.01310488,\n",
            "       0.00482565, 0.04554283, 0.03507274, 0.04060935, 0.0110175 ,\n",
            "       0.03594109, 0.04542497, 0.00708644, 0.06551165, 0.03813011,\n",
            "       0.00461552, 0.0150054 , 0.07979233, 0.037387  , 0.05217784,\n",
            "       0.04006087, 0.04240445]), 'mean_score_time': array([0.1081161 , 0.10967774, 0.10862613, 0.10779638, 0.10512357,\n",
            "       0.1089951 , 0.10699663, 0.10999475, 0.10796618, 0.10475841,\n",
            "       0.10798879, 0.10379772, 0.10915313, 0.1055058 , 0.10885625,\n",
            "       0.1092248 , 0.10634942, 0.11012392, 0.1103982 , 0.1080411 ,\n",
            "       0.11045465, 0.11063027, 0.10779324, 0.10571065, 0.10657206,\n",
            "       0.1109458 , 0.1088253 , 0.10928431, 0.10694394, 0.10718608,\n",
            "       0.1112783 , 0.10799165, 0.10834856, 0.10887761, 0.10842943,\n",
            "       0.10856624, 0.10796733, 0.1053041 , 0.11253629, 0.10830059,\n",
            "       0.10814443, 0.10876298, 0.11122031, 0.11131997, 0.10836987,\n",
            "       0.1085958 , 0.10803275, 0.10865355, 0.11096015, 0.11104465,\n",
            "       0.10805068, 0.10958581, 0.10560431, 0.10696635, 0.10774126,\n",
            "       0.10709972, 0.10937972, 0.10977054, 0.11108031, 0.1128706 ,\n",
            "       0.11270685, 0.10689316, 0.11205349, 0.10524015, 0.10773058,\n",
            "       0.11111231, 0.11352968, 0.11177549, 0.11008472, 0.10561385,\n",
            "       0.10384088, 0.10858846, 0.11036549, 0.10833302, 0.10942931,\n",
            "       0.10876818, 0.10420861]), 'std_score_time': array([0.00385938, 0.00330424, 0.00419562, 0.004548  , 0.00233052,\n",
            "       0.00483488, 0.00384847, 0.00172707, 0.00330114, 0.00095909,\n",
            "       0.00336557, 0.00043965, 0.00299297, 0.00222795, 0.00407565,\n",
            "       0.00547579, 0.00231223, 0.00387856, 0.0052147 , 0.00447392,\n",
            "       0.00521607, 0.00367941, 0.00752846, 0.00179681, 0.00258363,\n",
            "       0.00456429, 0.00260061, 0.00266764, 0.00253895, 0.00296521,\n",
            "       0.00606937, 0.00402083, 0.00416132, 0.00480881, 0.00613671,\n",
            "       0.0044671 , 0.00338298, 0.00300937, 0.00376725, 0.00478772,\n",
            "       0.0039752 , 0.00316314, 0.0047936 , 0.00366056, 0.00488586,\n",
            "       0.0047091 , 0.00301318, 0.00359328, 0.00270342, 0.00356978,\n",
            "       0.00256621, 0.00404124, 0.00268051, 0.00377763, 0.00369541,\n",
            "       0.00473158, 0.00396192, 0.00412766, 0.00438493, 0.00287943,\n",
            "       0.00373496, 0.00327929, 0.00312399, 0.00225597, 0.00292393,\n",
            "       0.0035884 , 0.00684592, 0.00412547, 0.00793721, 0.00297437,\n",
            "       0.0004714 , 0.00486168, 0.00259552, 0.00546814, 0.0044326 ,\n",
            "       0.00568672, 0.00062212]), 'param_max_depth': masked_array(data=[15, 15, 15, 15, 15, 15, 15, 15, 15, 15, 15, 16, 16, 16,\n",
            "                   16, 16, 16, 16, 16, 16, 16, 16, 17, 17, 17, 17, 17, 17,\n",
            "                   17, 17, 17, 17, 17, 18, 18, 18, 18, 18, 18, 18, 18, 18,\n",
            "                   18, 18, 19, 19, 19, 19, 19, 19, 19, 19, 19, 19, 19, 20,\n",
            "                   20, 20, 20, 20, 20, 20, 20, 20, 20, 20, 21, 21, 21, 21,\n",
            "                   21, 21, 21, 21, 21, 21, 21],\n",
            "             mask=[False, False, False, False, False, False, False, False,\n",
            "                   False, False, False, False, False, False, False, False,\n",
            "                   False, False, False, False, False, False, False, False,\n",
            "                   False, False, False, False, False, False, False, False,\n",
            "                   False, False, False, False, False, False, False, False,\n",
            "                   False, False, False, False, False, False, False, False,\n",
            "                   False, False, False, False, False, False, False, False,\n",
            "                   False, False, False, False, False, False, False, False,\n",
            "                   False, False, False, False, False, False, False, False,\n",
            "                   False, False, False, False, False],\n",
            "       fill_value='?',\n",
            "            dtype=object), 'param_n_estimators': masked_array(data=[55, 56, 57, 58, 59, 60, 61, 62, 63, 64, 65, 55, 56, 57,\n",
            "                   58, 59, 60, 61, 62, 63, 64, 65, 55, 56, 57, 58, 59, 60,\n",
            "                   61, 62, 63, 64, 65, 55, 56, 57, 58, 59, 60, 61, 62, 63,\n",
            "                   64, 65, 55, 56, 57, 58, 59, 60, 61, 62, 63, 64, 65, 55,\n",
            "                   56, 57, 58, 59, 60, 61, 62, 63, 64, 65, 55, 56, 57, 58,\n",
            "                   59, 60, 61, 62, 63, 64, 65],\n",
            "             mask=[False, False, False, False, False, False, False, False,\n",
            "                   False, False, False, False, False, False, False, False,\n",
            "                   False, False, False, False, False, False, False, False,\n",
            "                   False, False, False, False, False, False, False, False,\n",
            "                   False, False, False, False, False, False, False, False,\n",
            "                   False, False, False, False, False, False, False, False,\n",
            "                   False, False, False, False, False, False, False, False,\n",
            "                   False, False, False, False, False, False, False, False,\n",
            "                   False, False, False, False, False, False, False, False,\n",
            "                   False, False, False, False, False],\n",
            "       fill_value='?',\n",
            "            dtype=object), 'params': [{'max_depth': 15, 'n_estimators': 55}, {'max_depth': 15, 'n_estimators': 56}, {'max_depth': 15, 'n_estimators': 57}, {'max_depth': 15, 'n_estimators': 58}, {'max_depth': 15, 'n_estimators': 59}, {'max_depth': 15, 'n_estimators': 60}, {'max_depth': 15, 'n_estimators': 61}, {'max_depth': 15, 'n_estimators': 62}, {'max_depth': 15, 'n_estimators': 63}, {'max_depth': 15, 'n_estimators': 64}, {'max_depth': 15, 'n_estimators': 65}, {'max_depth': 16, 'n_estimators': 55}, {'max_depth': 16, 'n_estimators': 56}, {'max_depth': 16, 'n_estimators': 57}, {'max_depth': 16, 'n_estimators': 58}, {'max_depth': 16, 'n_estimators': 59}, {'max_depth': 16, 'n_estimators': 60}, {'max_depth': 16, 'n_estimators': 61}, {'max_depth': 16, 'n_estimators': 62}, {'max_depth': 16, 'n_estimators': 63}, {'max_depth': 16, 'n_estimators': 64}, {'max_depth': 16, 'n_estimators': 65}, {'max_depth': 17, 'n_estimators': 55}, {'max_depth': 17, 'n_estimators': 56}, {'max_depth': 17, 'n_estimators': 57}, {'max_depth': 17, 'n_estimators': 58}, {'max_depth': 17, 'n_estimators': 59}, {'max_depth': 17, 'n_estimators': 60}, {'max_depth': 17, 'n_estimators': 61}, {'max_depth': 17, 'n_estimators': 62}, {'max_depth': 17, 'n_estimators': 63}, {'max_depth': 17, 'n_estimators': 64}, {'max_depth': 17, 'n_estimators': 65}, {'max_depth': 18, 'n_estimators': 55}, {'max_depth': 18, 'n_estimators': 56}, {'max_depth': 18, 'n_estimators': 57}, {'max_depth': 18, 'n_estimators': 58}, {'max_depth': 18, 'n_estimators': 59}, {'max_depth': 18, 'n_estimators': 60}, {'max_depth': 18, 'n_estimators': 61}, {'max_depth': 18, 'n_estimators': 62}, {'max_depth': 18, 'n_estimators': 63}, {'max_depth': 18, 'n_estimators': 64}, {'max_depth': 18, 'n_estimators': 65}, {'max_depth': 19, 'n_estimators': 55}, {'max_depth': 19, 'n_estimators': 56}, {'max_depth': 19, 'n_estimators': 57}, {'max_depth': 19, 'n_estimators': 58}, {'max_depth': 19, 'n_estimators': 59}, {'max_depth': 19, 'n_estimators': 60}, {'max_depth': 19, 'n_estimators': 61}, {'max_depth': 19, 'n_estimators': 62}, {'max_depth': 19, 'n_estimators': 63}, {'max_depth': 19, 'n_estimators': 64}, {'max_depth': 19, 'n_estimators': 65}, {'max_depth': 20, 'n_estimators': 55}, {'max_depth': 20, 'n_estimators': 56}, {'max_depth': 20, 'n_estimators': 57}, {'max_depth': 20, 'n_estimators': 58}, {'max_depth': 20, 'n_estimators': 59}, {'max_depth': 20, 'n_estimators': 60}, {'max_depth': 20, 'n_estimators': 61}, {'max_depth': 20, 'n_estimators': 62}, {'max_depth': 20, 'n_estimators': 63}, {'max_depth': 20, 'n_estimators': 64}, {'max_depth': 20, 'n_estimators': 65}, {'max_depth': 21, 'n_estimators': 55}, {'max_depth': 21, 'n_estimators': 56}, {'max_depth': 21, 'n_estimators': 57}, {'max_depth': 21, 'n_estimators': 58}, {'max_depth': 21, 'n_estimators': 59}, {'max_depth': 21, 'n_estimators': 60}, {'max_depth': 21, 'n_estimators': 61}, {'max_depth': 21, 'n_estimators': 62}, {'max_depth': 21, 'n_estimators': 63}, {'max_depth': 21, 'n_estimators': 64}, {'max_depth': 21, 'n_estimators': 65}], 'split0_test_score': array([0.38603551, 0.38686771, 0.3865352 , 0.38523129, 0.38439345,\n",
            "       0.38454928, 0.38639783, 0.3851586 , 0.38585601, 0.38466918,\n",
            "       0.38255983, 0.4248057 , 0.42141191, 0.42343156, 0.42245713,\n",
            "       0.42631456, 0.42629559, 0.42564528, 0.42734908, 0.42237156,\n",
            "       0.42763721, 0.42669656, 0.37951393, 0.38296372, 0.38639826,\n",
            "       0.38634764, 0.3795929 , 0.37490227, 0.37744393, 0.37754006,\n",
            "       0.37772058, 0.38108928, 0.38158657, 0.39501558, 0.39773831,\n",
            "       0.39925332, 0.398672  , 0.39996505, 0.40375871, 0.39916584,\n",
            "       0.40260835, 0.40058591, 0.40726233, 0.40947165, 0.43649377,\n",
            "       0.43103148, 0.43370988, 0.43185711, 0.42491458, 0.42061327,\n",
            "       0.42328063, 0.42671448, 0.4289938 , 0.43316898, 0.43026418,\n",
            "       0.45699886, 0.45240741, 0.45351922, 0.44820397, 0.44749199,\n",
            "       0.44605314, 0.44818288, 0.45022642, 0.45161575, 0.45585527,\n",
            "       0.45219697, 0.44755163, 0.4469005 , 0.44804404, 0.44580387,\n",
            "       0.43868927, 0.43741886, 0.44007437, 0.43665706, 0.43430271,\n",
            "       0.43665771, 0.43271574]), 'split1_test_score': array([0.55134499, 0.549914  , 0.54245103, 0.55058286, 0.54953228,\n",
            "       0.54938704, 0.55148352, 0.55475378, 0.55665784, 0.56163086,\n",
            "       0.56360611, 0.538439  , 0.53937798, 0.53776695, 0.54864488,\n",
            "       0.54921406, 0.54868344, 0.55114163, 0.55425108, 0.55181478,\n",
            "       0.5497224 , 0.55080616, 0.54482287, 0.54269662, 0.54339096,\n",
            "       0.55365282, 0.55444052, 0.55310313, 0.55469997, 0.55854057,\n",
            "       0.5593533 , 0.55968501, 0.55835544, 0.5549545 , 0.55123366,\n",
            "       0.55279937, 0.56169852, 0.57018772, 0.56987822, 0.57189854,\n",
            "       0.57440276, 0.57766927, 0.57427264, 0.57722014, 0.56393451,\n",
            "       0.56612251, 0.56523666, 0.57376425, 0.57321397, 0.57361837,\n",
            "       0.57546086, 0.57507138, 0.57572288, 0.56878032, 0.57089849,\n",
            "       0.52274999, 0.52125788, 0.5193314 , 0.52694867, 0.52291088,\n",
            "       0.52339385, 0.52739751, 0.53095649, 0.53578834, 0.53602186,\n",
            "       0.53703467, 0.56476766, 0.56449942, 0.56391834, 0.57263436,\n",
            "       0.57216734, 0.57291417, 0.57435007, 0.57716944, 0.57773245,\n",
            "       0.58191352, 0.58458904]), 'split2_test_score': array([0.37811973, 0.37799359, 0.38269108, 0.38390383, 0.3840552 ,\n",
            "       0.38379745, 0.38086453, 0.37615182, 0.37552166, 0.37928078,\n",
            "       0.38211584, 0.3864569 , 0.38919652, 0.39215175, 0.39132171,\n",
            "       0.39180645, 0.39520743, 0.39379291, 0.39156093, 0.38971492,\n",
            "       0.38830454, 0.39100271, 0.41156992, 0.40961197, 0.41176868,\n",
            "       0.40884156, 0.4110655 , 0.40867982, 0.4079356 , 0.40552173,\n",
            "       0.40330957, 0.40289434, 0.40189547, 0.4022263 , 0.40255445,\n",
            "       0.40479287, 0.40701146, 0.40343179, 0.40294506, 0.40244545,\n",
            "       0.39970034, 0.4011217 , 0.40939548, 0.40894877, 0.41191531,\n",
            "       0.40973044, 0.4120467 , 0.41198358, 0.41350386, 0.41020923,\n",
            "       0.40767256, 0.40414377, 0.40089132, 0.40184477, 0.40605608,\n",
            "       0.3870728 , 0.38526727, 0.38780279, 0.38702892, 0.38593579,\n",
            "       0.38321642, 0.38159596, 0.37924197, 0.37737827, 0.37776331,\n",
            "       0.37765953, 0.41013787, 0.40903059, 0.41159607, 0.4075245 ,\n",
            "       0.40765215, 0.40428338, 0.40354992, 0.40065284, 0.39560326,\n",
            "       0.3941889 , 0.39379994]), 'split3_test_score': array([0.61793144, 0.61901674, 0.6220966 , 0.62164288, 0.61907615,\n",
            "       0.6173648 , 0.61693727, 0.61842737, 0.61768852, 0.618018  ,\n",
            "       0.62101193, 0.61541345, 0.61923674, 0.61929056, 0.62087578,\n",
            "       0.62338625, 0.62430385, 0.62412934, 0.62499678, 0.61945769,\n",
            "       0.61959322, 0.62121814, 0.65149964, 0.65268154, 0.65192651,\n",
            "       0.65176804, 0.6542309 , 0.6491835 , 0.64567702, 0.64687631,\n",
            "       0.64461213, 0.64691264, 0.64345876, 0.62133421, 0.62134689,\n",
            "       0.62519738, 0.62742   , 0.62649292, 0.62606338, 0.62440918,\n",
            "       0.62453897, 0.62188922, 0.62427196, 0.62674986, 0.62431284,\n",
            "       0.62840524, 0.6328694 , 0.63308947, 0.63531552, 0.63773016,\n",
            "       0.63410602, 0.63415655, 0.63244987, 0.63253957, 0.63046493,\n",
            "       0.62884546, 0.62749897, 0.62875412, 0.63079797, 0.63561368,\n",
            "       0.63707024, 0.63517241, 0.640101  , 0.63985515, 0.64159739,\n",
            "       0.64080885, 0.63000216, 0.62825994, 0.63307741, 0.63301443,\n",
            "       0.63507342, 0.63602811, 0.63421124, 0.63687095, 0.63311496,\n",
            "       0.63958588, 0.63787437]), 'split4_test_score': array([0.25951172, 0.25209597, 0.24814691, 0.23969203, 0.23767532,\n",
            "       0.23825758, 0.24251123, 0.23168885, 0.23377863, 0.23914297,\n",
            "       0.23768303, 0.26018077, 0.26782496, 0.26467395, 0.26250411,\n",
            "       0.26255011, 0.2624527 , 0.26546794, 0.25615551, 0.25983414,\n",
            "       0.26668315, 0.26409533, 0.25654188, 0.25294703, 0.24834368,\n",
            "       0.24471942, 0.24687046, 0.24965894, 0.25344081, 0.24526363,\n",
            "       0.23890052, 0.24020326, 0.24358264, 0.25151181, 0.24997285,\n",
            "       0.24786252, 0.23903766, 0.24669694, 0.25015148, 0.25319596,\n",
            "       0.24213771, 0.24293342, 0.25220813, 0.25345336, 0.30761232,\n",
            "       0.30830419, 0.30128004, 0.29893135, 0.29779535, 0.29142724,\n",
            "       0.29636255, 0.28544717, 0.28683374, 0.28816085, 0.28825917,\n",
            "       0.27974598, 0.28335797, 0.27975373, 0.27770582, 0.27287116,\n",
            "       0.27492382, 0.27729888, 0.26937605, 0.27237265, 0.27870047,\n",
            "       0.27876634, 0.26799461, 0.26734686, 0.26271838, 0.26203761,\n",
            "       0.26023202, 0.25891365, 0.26146724, 0.2553562 , 0.24805335,\n",
            "       0.25578934, 0.25918558]), 'mean_test_score': array([0.43858868, 0.4371776 , 0.43638417, 0.43621058, 0.43494648,\n",
            "       0.43467123, 0.43563888, 0.43323609, 0.43390053, 0.43654836,\n",
            "       0.43739535, 0.44505917, 0.44740962, 0.44746295, 0.44916072,\n",
            "       0.45065429, 0.4513886 , 0.45203542, 0.45086267, 0.44863862,\n",
            "       0.4503881 , 0.45076378, 0.44878965, 0.44818018, 0.44836562,\n",
            "       0.4490659 , 0.44924006, 0.44710553, 0.44783947, 0.44674846,\n",
            "       0.44477922, 0.44615691, 0.44577578, 0.44500848, 0.44456923,\n",
            "       0.44598109, 0.44676793, 0.44935488, 0.45055937, 0.45022299,\n",
            "       0.44867762, 0.4488399 , 0.45348211, 0.45516876, 0.46885375,\n",
            "       0.46871877, 0.46902853, 0.46992515, 0.46894865, 0.46671965,\n",
            "       0.46737652, 0.46510667, 0.46497832, 0.4648989 , 0.46518857,\n",
            "       0.45508262, 0.4539579 , 0.45383225, 0.45413707, 0.4529647 ,\n",
            "       0.45293149, 0.45392953, 0.45398038, 0.45540203, 0.45798766,\n",
            "       0.45729327, 0.46409078, 0.46320746, 0.46387085, 0.46420295,\n",
            "       0.46276284, 0.46191163, 0.46273057, 0.4613413 , 0.45776135,\n",
            "       0.46162707, 0.46163294]), 'std_test_score': array([0.12912374, 0.13119757, 0.13156019, 0.13521877, 0.13497784,\n",
            "       0.13432448, 0.13342585, 0.13802442, 0.1375591 , 0.13676021,\n",
            "       0.13826928, 0.12309738, 0.12189999, 0.12225236, 0.12512576,\n",
            "       0.12568933, 0.12557765, 0.12516742, 0.12883502, 0.12620108,\n",
            "       0.12378785, 0.1249471 , 0.13671676, 0.13755787, 0.1383148 ,\n",
            "       0.1409508 , 0.14166853, 0.13981845, 0.13776615, 0.14116247,\n",
            "       0.14259246, 0.14262808, 0.14048526, 0.13034528, 0.12996444,\n",
            "       0.13165071, 0.13630104, 0.13534917, 0.13390996, 0.13330787,\n",
            "       0.13705029, 0.13678159, 0.13292903, 0.13360406, 0.11269058,\n",
            "       0.11456007, 0.11724652, 0.11954115, 0.12071103, 0.12386976,\n",
            "       0.12184887, 0.12501046, 0.1244577 , 0.12256728, 0.12207476,\n",
            "       0.11844352, 0.11702216, 0.11794161, 0.12014765, 0.12264553,\n",
            "       0.12285459, 0.12223754, 0.12668456, 0.12655964, 0.12520883,\n",
            "       0.12512077, 0.12593696, 0.1257496 , 0.12812948, 0.13013569,\n",
            "       0.13137407, 0.1324894 , 0.13144361, 0.13486963, 0.13677232,\n",
            "       0.13687857, 0.13608946]), 'rank_test_score': array([67, 69, 71, 72, 74, 75, 73, 77, 76, 70, 68, 63, 56, 55, 46, 40, 37,\n",
            "       36, 38, 51, 42, 39, 49, 53, 52, 47, 45, 57, 54, 59, 65, 60, 62, 64,\n",
            "       66, 61, 58, 44, 41, 43, 50, 48, 33, 26,  4,  5,  2,  1,  3,  7,  6,\n",
            "        9, 10, 11,  8, 27, 30, 32, 28, 34, 35, 31, 29, 25, 22, 24, 13, 15,\n",
            "       14, 12, 16, 18, 17, 21, 23, 20, 19], dtype=int32)}\n"
          ],
          "name": "stdout"
        },
        {
          "output_type": "display_data",
          "data": {
            "image/png": "[encoded data removed]",
            "text/plain": [
              "<Figure size 432x288 with 1 Axes>"
            ]
          },
          "metadata": {
            "tags": []
          }
        },
        {
          "output_type": "stream",
          "text": [
            "the best parameter for max_depth is: 19\n",
            "the best parameter for n_estimators is: 58\n"
          ],
          "name": "stdout"
        }
      ]
    },
    {
      "cell_type": "markdown",
      "metadata": {
        "id": "4hOWiqrAGBT3",
        "colab_type": "text"
      },
      "source": [
        "# Part 4: Model Evaluation"
      ]
    },
    {
      "cell_type": "markdown",
      "metadata": {
        "id": "OTvNuvgHgopJ",
        "colab_type": "text"
      },
      "source": [
        "## 4.1: Evaluate all models"
      ]
    },
    {
      "cell_type": "code",
      "metadata": {
        "id": "K3ln6hSBwwqg",
        "colab_type": "code",
        "outputId": "05dea79c-5f3b-451f-befc-30aa7fbc5dca",
        "colab": {
          "base_uri": "https://localhost:8080/",
          "height": 67
        }
      },
      "source": [
        "#For lasso, the optimal alpha is 107.20161850474553\n",
        "from sklearn.linear_model import Lasso\n",
        "from sklearn.metrics import  mean_squared_error\n",
        "lasso=Lasso(alpha=107.20161850474553)\n",
        "lasso.fit(model_train_x,model_train_y)\n",
        "model_pred_y=lasso.predict(model_test_x)\n",
        "lasso_score=lasso.score(model_test_x,model_test_y)\n",
        "MSE_lasso=mean_squared_error(model_test_y,model_pred_y)\n",
        "\n",
        "print ('lasso score: ', lasso_score)\n",
        "print ('Mean square error of lasso: ', MSE_lasso)\n"
      ],
      "execution_count": 77,
      "outputs": [
        {
          "output_type": "stream",
          "text": [
            "lasso score:  0.10167520895097015\n",
            "Mean square error of lasso:  238389030.67935738\n",
            "Root mean squared error of lasso: 15439.852029062888\n"
          ],
          "name": "stdout"
        }
      ]
    },
    {
      "cell_type": "code",
      "metadata": {
        "id": "kGt2OK7dPo6V",
        "colab_type": "code",
        "outputId": "908e2de2-a4e3-438b-ef7d-5c4b7e5e10ed",
        "colab": {
          "base_uri": "https://localhost:8080/",
          "height": 67
        }
      },
      "source": [
        "#for ridge,the optimal alpha is 200.453398090524\n",
        "from sklearn.linear_model import Ridge\n",
        "from sklearn.metrics import  mean_squared_error\n",
        "ridge=Ridge(alpha=200.453398090524)\n",
        "ridge.fit(model_train_x,model_train_y)\n",
        "pred_y=ridge.predict(model_test_x)\n",
        "ridge_score=ridge.score(model_test_x,model_test_y)\n",
        "MSE_ridge=mean_squared_error(model_test_y,pred_y)\n",
        "\n",
        "print ('ridge score: ', ridge_score)\n",
        "print ('Mean square error of ridge: ', MSE_ridge)\n"
      ],
      "execution_count": 78,
      "outputs": [
        {
          "output_type": "stream",
          "text": [
            "ridge score:  0.11419607776136165\n",
            "Mean square error of ridge:  235066359.62684524\n",
            "Root mean squared error of ridge: 15331.873976355442\n"
          ],
          "name": "stdout"
        }
      ]
    },
    {
      "cell_type": "code",
      "metadata": {
        "id": "uhuoqrdCRcDK",
        "colab_type": "code",
        "outputId": "7864fef0-e26b-4828-af47-89087766a708",
        "colab": {
          "base_uri": "https://localhost:8080/",
          "height": 67
        }
      },
      "source": [
        "#For randomforest regression, the optimal n_estimators is 64 , the optimal max_depth is 17\n",
        "from sklearn.ensemble import RandomForestRegressor\n",
        "rf=RandomForestRegressor(n_estimators=64,max_depth=17,max_features='sqrt',random_state=2,n_jobs=-1)\n",
        "rf.fit(model_train_x,model_train_y)\n",
        "pred_y=rf.predict(model_test_x)\n",
        "rf_score=rf.score(model_test_x,model_test_y)\n",
        "MSE_rf=mean_squared_error(model_test_y,pred_y)\n",
        "print ('rf score: ', rf_score)\n",
        "print ('Mean square error of rf: ', MSE_rf)\n",
        "\n"
      ],
      "execution_count": 79,
      "outputs": [
        {
          "output_type": "stream",
          "text": [
            "rf score:  0.5532465652599368\n",
            "Mean square error of rf:  118555247.85861608\n",
            "Root mean squared error of rf: 10888.307851021484\n"
          ],
          "name": "stdout"
        }
      ]
    },
    {
      "cell_type": "markdown",
      "metadata": {
        "id": "KOaL7VjchKND",
        "colab_type": "text"
      },
      "source": [
        "## 4.2 Model comparison "
      ]
    },
    {
      "cell_type": "code",
      "metadata": {
        "id": "4GS6BG2PS2oE",
        "colab_type": "code",
        "outputId": "1387191b-4743-46fa-dc51-dd638fbdce66",
        "colab": {
          "base_uri": "https://localhost:8080/",
          "height": 564
        }
      },
      "source": [
        "lst_score = [lasso_score,ridge_score,rf_score]\n",
        "MSE_lst =  [MSE_lasso,MSE_ridge,MSE_rf]\n",
        "model_lst = ['Lasso_linear','Ridge linear', 'Random forest']\n",
        "\n",
        "plt.figure(1)\n",
        "plt.plot(model_lst, lst_score, 'ro')\n",
        "plt.legend(['r-squre / score'])\n",
        "plt.xlabel('model names',fontsize =16)\n",
        "plt.ylabel('score / r square', fontsize =16)\n",
        "plt.grid(True)\n",
        "plt.show()\n",
        "\n",
        "plt.figure(2)\n",
        "plt.plot(model_lst, MSE_lst, 'g^')\n",
        "plt.legend(['mean square error (MSE)'])\n",
        "plt.xlabel('model names', fontsize =16)\n",
        "plt.ylabel('mean square error', fontsize =16)\n",
        "plt.grid(True)\n",
        "plt.show()\n"
      ],
      "execution_count": 83,
      "outputs": [
        {
          "output_type": "display_data",
          "data": {
            "image/png": "[encoded data removed]",
            "text/plain": [
              "<Figure size 432x288 with 1 Axes>"
            ]
          },
          "metadata": {
            "tags": []
          }
        },
        {
          "output_type": "display_data",
          "data": {
            "image/png": "[encoded data removed]",
            "text/plain": [
              "<Figure size 432x288 with 1 Axes>"
            ]
          },
          "metadata": {
            "tags": []
          }
        }
      ]
    },
    {
      "cell_type": "markdown",
      "metadata": {
        "id": "ndOUSyTvhb7k",
        "colab_type": "text"
      },
      "source": [
        "## 4.3 Feature importance"
      ]
    },
    {
      "cell_type": "code",
      "metadata": {
        "id": "o2AyiWRnVVJj",
        "colab_type": "code",
        "outputId": "225784bf-70e1-426c-b9d3-30776f9ef9cb",
        "cellView": "code",
        "colab": {
          "base_uri": "https://localhost:8080/",
          "height": 461
        }
      },
      "source": [
        "# According to MSE,and R square, I found Random Forest Regression has the best performance\n",
        "# In the following, i will plot the feature importance from random forest model\n",
        "# I found votes, position and budget are the top three important factors on Movie view time\n",
        "\n",
        "importances = rf.feature_importances_\n",
        "feature_name = model_train_x.columns.get_values()\n",
        "indices = np.argsort(importances)[::-1]\n",
        "plt.figure(1)\n",
        "plt.bar(feature_name[indices[:20]], importances[indices[:20]])\n",
        "plt.xticks(rotation=90)\n",
        "plt.show()"
      ],
      "execution_count": 84,
      "outputs": [
        {
          "output_type": "stream",
          "text": [
            "/usr/local/lib/python3.6/dist-packages/ipykernel_launcher.py:3: FutureWarning: The 'get_values' method is deprecated and will be removed in a future version. Use '.to_numpy()' or '.array' instead.\n",
            "  This is separate from the ipykernel package so we can avoid doing imports until\n"
          ],
          "name": "stderr"
        },
        {
          "output_type": "display_data",
          "data": {
            "image/png": "[encoded data removed]",
            "text/plain": [
              "<Figure size 432x288 with 1 Axes>"
            ]
          },
          "metadata": {
            "tags": []
          }
        }
      ]
    }
  ]
}